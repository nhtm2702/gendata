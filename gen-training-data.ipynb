{
 "cells": [
  {
   "cell_type": "markdown",
   "id": "f594596f",
   "metadata": {
    "papermill": {
     "duration": 0.005624,
     "end_time": "2024-02-01T17:06:18.000122",
     "exception": false,
     "start_time": "2024-02-01T17:06:17.994498",
     "status": "completed"
    },
    "tags": []
   },
   "source": [
    "# IMPORT LIBRARIES"
   ]
  },
  {
   "cell_type": "code",
   "execution_count": 1,
   "id": "b96331ca",
   "metadata": {},
   "outputs": [],
   "source": [
    "OPENSLIDE_PATH = r'E:/openslide-win64-20231011/openslide-win64-20231011/bin'\n",
    "\n",
    "import os\n",
    "if hasattr(os, 'add_dll_directory'):\n",
    "    # Windows\n",
    "    with os.add_dll_directory(OPENSLIDE_PATH):\n",
    "        import openslide\n",
    "else:\n",
    "    import openslide"
   ]
  },
  {
   "cell_type": "code",
   "execution_count": 2,
   "id": "da4a16a8",
   "metadata": {
    "execution": {
     "iopub.execute_input": "2024-02-01T17:06:18.032909Z",
     "iopub.status.busy": "2024-02-01T17:06:18.032313Z",
     "iopub.status.idle": "2024-02-01T17:06:19.255457Z",
     "shell.execute_reply": "2024-02-01T17:06:19.254602Z"
    },
    "papermill": {
     "duration": 1.232455,
     "end_time": "2024-02-01T17:06:19.258079",
     "exception": false,
     "start_time": "2024-02-01T17:06:18.025624",
     "status": "completed"
    },
    "tags": []
   },
   "outputs": [],
   "source": [
    "import os\n",
    "import cv2\n",
    "import time\n",
    "import random\n",
    "import shutil\n",
    "import fnmatch\n",
    "import numpy as np\n",
    "import pandas as pd"
   ]
  },
  {
   "cell_type": "markdown",
   "id": "e265253b",
   "metadata": {
    "papermill": {
     "duration": 0.005443,
     "end_time": "2024-02-01T17:06:19.268818",
     "exception": false,
     "start_time": "2024-02-01T17:06:19.263375",
     "status": "completed"
    },
    "tags": []
   },
   "source": [
    "# OPEN ANNOTATIONS"
   ]
  },
  {
   "cell_type": "code",
   "execution_count": 3,
   "id": "0952bb3c",
   "metadata": {
    "execution": {
     "iopub.execute_input": "2024-02-01T17:06:19.281814Z",
     "iopub.status.busy": "2024-02-01T17:06:19.280999Z",
     "iopub.status.idle": "2024-02-01T17:06:19.302130Z",
     "shell.execute_reply": "2024-02-01T17:06:19.301185Z"
    },
    "papermill": {
     "duration": 0.030434,
     "end_time": "2024-02-01T17:06:19.304762",
     "exception": false,
     "start_time": "2024-02-01T17:06:19.274328",
     "status": "completed"
    },
    "tags": []
   },
   "outputs": [],
   "source": [
    "df = pd.read_csv('D:/annotation/NB.csv')"
   ]
  },
  {
   "cell_type": "code",
   "execution_count": 4,
   "id": "296a38f4",
   "metadata": {
    "execution": {
     "iopub.execute_input": "2024-02-01T17:06:19.317590Z",
     "iopub.status.busy": "2024-02-01T17:06:19.316914Z",
     "iopub.status.idle": "2024-02-01T17:06:19.337494Z",
     "shell.execute_reply": "2024-02-01T17:06:19.336231Z"
    },
    "papermill": {
     "duration": 0.030498,
     "end_time": "2024-02-01T17:06:19.340685",
     "exception": false,
     "start_time": "2024-02-01T17:06:19.310187",
     "status": "completed"
    },
    "tags": []
   },
   "outputs": [],
   "source": [
    "images_df = [os.path.join(\"G:/NB/\", df.iloc[i][\"images\"]) for i in range(len(df))]\n",
    "patches_df = [os.path.join(\"G:/cut-image/NB/\", df.iloc[i][\"folders\"]) for i in range(len(df))]\n",
    "annos_df = [os.path.join(\"D:/annotation/NB/\", df.iloc[i][\"annotations\"]) for i in range(len(df))]"
   ]
  },
  {
   "cell_type": "code",
   "execution_count": 5,
   "id": "bdebce28",
   "metadata": {
    "execution": {
     "iopub.execute_input": "2024-02-01T17:06:19.353239Z",
     "iopub.status.busy": "2024-02-01T17:06:19.352803Z",
     "iopub.status.idle": "2024-02-01T17:06:19.359952Z",
     "shell.execute_reply": "2024-02-01T17:06:19.358767Z"
    },
    "papermill": {
     "duration": 0.016548,
     "end_time": "2024-02-01T17:06:19.362645",
     "exception": false,
     "start_time": "2024-02-01T17:06:19.346097",
     "status": "completed"
    },
    "tags": []
   },
   "outputs": [],
   "source": [
    "# for i in patches_df:\n",
    "#     os.makedirs(i)"
   ]
  },
  {
   "cell_type": "markdown",
   "id": "fa365cb8",
   "metadata": {
    "papermill": {
     "duration": 0.004962,
     "end_time": "2024-02-01T17:06:19.373057",
     "exception": false,
     "start_time": "2024-02-01T17:06:19.368095",
     "status": "completed"
    },
    "tags": []
   },
   "source": [
    "# CUT IMAGES"
   ]
  },
  {
   "cell_type": "code",
   "execution_count": 6,
   "id": "ea669afc",
   "metadata": {
    "execution": {
     "iopub.execute_input": "2024-02-01T17:06:19.385666Z",
     "iopub.status.busy": "2024-02-01T17:06:19.385019Z",
     "iopub.status.idle": "2024-02-01T17:06:19.392336Z",
     "shell.execute_reply": "2024-02-01T17:06:19.391256Z"
    },
    "papermill": {
     "duration": 0.016653,
     "end_time": "2024-02-01T17:06:19.394897",
     "exception": false,
     "start_time": "2024-02-01T17:06:19.378244",
     "status": "completed"
    },
    "tags": []
   },
   "outputs": [],
   "source": [
    "df = pd.DataFrame({'images': images_df,\n",
    "                    'anno': annos_df,\n",
    "                    'folder': patches_df\n",
    "                  })"
   ]
  },
  {
   "cell_type": "code",
   "execution_count": 7,
   "id": "79de6d81",
   "metadata": {},
   "outputs": [],
   "source": [
    "def read_anno(anno_path):\n",
    "    raw_data = pd.read_json(anno_path)\n",
    "    anno = raw_data.annotation\n",
    "    els = [x['elements'] for x in anno if (len(x['elements']) > 0)]\n",
    "    pts = []\n",
    "    labels = []\n",
    "    rgb = []\n",
    "    for e in els:\n",
    "        for p in e:\n",
    "            count = 0\n",
    "            if (p.get('label') != None and \n",
    "                (p.get('label').get('value') == 'Ung thư biểu mô TKNT tế bào lớn' or\n",
    "                p.get('label').get('value') == 'Ung thư biểu mô, không thể định loại')):\n",
    "                pts.append(p.get(\"points\"))\n",
    "                t_label = p.get('label').get('value')\n",
    "                # if (t_label == 'Ung thư biểu mô tuyến - solid' or \n",
    "                #     t_label == 'Ung thư biểu mô KTBN, thiên về UTBM tuyến' or\n",
    "                #     t_label == 'Ung thư biểu mô tuyến - Acinar' or\n",
    "                #     t_label == 'Ung thư biểu mô tuyến - Lepidic' or \n",
    "                #     t_label == 'Ung thư biểu mô tuyến - nhú' or\n",
    "                #     t_label == 'Ung thư biểu mô tuyến - vi nhú' or\n",
    "                #     t_label == ' Ung thư biểu mô tuyến - típ ruột' or\n",
    "                #     t_label == 'Ung thư biểu mô tuyến - keo' or\n",
    "                #     t_label == 'Ung thư biểu mô tuyến - bào thai' or\n",
    "                #     t_label == 'Ung thư biểu mô tuyến - nhầy'):\n",
    "                #     label = 'Ung thư biểu mô tuyến'\n",
    "                #     color = (255, 255, 204)\n",
    "                # elif (t_label == 'Ung thư biểu mô tế bào vảy' or \n",
    "                #     t_label == 'Ung thư biểu mô KTBN thiên về UTBM vảy'):\n",
    "                #     label = 'Ung thư biểu mô vảy'\n",
    "                #     color = (204, 255, 229)\n",
    "                if (t_label == 'Ung thư biểu mô TKNT tế bào lớn'):\n",
    "                    label = 'Ung thư biểu mô TKNT tế bào lớn'\n",
    "                    color = (204, 255, 255)\n",
    "                    count += 1\n",
    "                elif (t_label == 'Ung thư biểu mô, không thể định loại'):\n",
    "                    label = 'Ung thư biểu mô, không thể định loại'\n",
    "                    color = (204, 204, 204)\n",
    "                    count += 1\n",
    "                # elif (t_label == 'Ung thư biểu mô tế bào nhỏ'):\n",
    "                #     label = 'Ung thư biểu mô tế bào nhỏ'\n",
    "                #     color = (255, 204, 204)\n",
    "                # else:\n",
    "                #     label = 'Bình thường'\n",
    "                #     color = (255, 229, 204)\n",
    "            if (count != 0):\n",
    "                labels.append(label)\n",
    "                rgb.append(color)\n",
    "            else:\n",
    "                return 0\n",
    "    polys = []\n",
    "    for p in pts:\n",
    "        poly = []\n",
    "        for x in p:\n",
    "            x_coord = round(x[0])\n",
    "            y_coord = round(x[1])\n",
    "            poly.append([x_coord, y_coord])\n",
    "        polygon = np.array(poly)\n",
    "        polys.append(polygon)\n",
    "    ill = pd.DataFrame(\n",
    "    {'coords': polys,\n",
    "     'labels': labels,\n",
    "     'color': rgb\n",
    "    })\n",
    "    return ill"
   ]
  },
  {
   "cell_type": "code",
   "execution_count": 8,
   "id": "ba7413b1",
   "metadata": {},
   "outputs": [],
   "source": [
    "def extract_patch(ill, size):\n",
    "    tile = []\n",
    "    for i in range(len(ill)):\n",
    "        p = ill.loc[i, \"coords\"]\n",
    "        x_min = size.dimensions[0]\n",
    "        y_min = size.dimensions[1]\n",
    "        x_max = 0\n",
    "        y_max = 0\n",
    "        for x in p:\n",
    "            x_min = min(x_min, x[0])\n",
    "            y_min = min(y_min, x[1])\n",
    "            x_max = max(x_max, x[0])\n",
    "            y_max = max(y_max, x[1])\n",
    "        tile.append([x_min, y_min, x_max, y_max])\n",
    "    return tile"
   ]
  },
  {
   "cell_type": "code",
   "execution_count": 9,
   "id": "48d22957",
   "metadata": {
    "execution": {
     "iopub.execute_input": "2024-02-01T17:06:19.460461Z",
     "iopub.status.busy": "2024-02-01T17:06:19.459410Z",
     "iopub.status.idle": "2024-02-01T17:06:19.465069Z",
     "shell.execute_reply": "2024-02-01T17:06:19.464210Z"
    },
    "papermill": {
     "duration": 0.014628,
     "end_time": "2024-02-01T17:06:19.467494",
     "exception": false,
     "start_time": "2024-02-01T17:06:19.452866",
     "status": "completed"
    },
    "tags": []
   },
   "outputs": [],
   "source": [
    "def get_patch(os_obj, tl_pixel, patch_shape):\n",
    "    return os_obj.read_region(tl_pixel, 0, patch_shape).convert(\"RGB\")"
   ]
  },
  {
   "cell_type": "code",
   "execution_count": 10,
   "id": "72d477ab",
   "metadata": {
    "execution": {
     "iopub.execute_input": "2024-02-01T17:06:19.480147Z",
     "iopub.status.busy": "2024-02-01T17:06:19.479455Z",
     "iopub.status.idle": "2024-02-01T17:08:04.741299Z",
     "shell.execute_reply": "2024-02-01T17:08:04.740267Z"
    },
    "papermill": {
     "duration": 105.271316,
     "end_time": "2024-02-01T17:08:04.743997",
     "exception": false,
     "start_time": "2024-02-01T17:06:19.472681",
     "status": "completed"
    },
    "tags": []
   },
   "outputs": [
    {
     "name": "stdout",
     "output_type": "stream",
     "text": [
      "G:/cut-image/NB/AD7151\n",
      "demo dimensions:  (76800, 111616)\n",
      "G:/cut-image/NB/AC5798\n",
      "demo dimensions:  (24576, 76800)\n"
     ]
    },
    {
     "ename": "IndexError",
     "evalue": "single positional indexer is out-of-bounds",
     "output_type": "error",
     "traceback": [
      "\u001b[1;31m---------------------------------------------------------------------------\u001b[0m",
      "\u001b[1;31mIndexError\u001b[0m                                Traceback (most recent call last)",
      "Cell \u001b[1;32mIn [10], line 6\u001b[0m\n\u001b[0;32m      4\u001b[0m index \u001b[38;5;241m=\u001b[39m \u001b[38;5;28mid\u001b[39m \u001b[38;5;241m+\u001b[39m \u001b[38;5;241m492\u001b[39m\n\u001b[0;32m      5\u001b[0m t1 \u001b[38;5;241m=\u001b[39m time\u001b[38;5;241m.\u001b[39mtime()\n\u001b[1;32m----> 6\u001b[0m OS_OBJ \u001b[38;5;241m=\u001b[39m openslide\u001b[38;5;241m.\u001b[39mopen_slide(df\u001b[38;5;241m.\u001b[39miloc[index][\u001b[38;5;124m'\u001b[39m\u001b[38;5;124mimages\u001b[39m\u001b[38;5;124m'\u001b[39m])\n\u001b[0;32m      7\u001b[0m ill_df \u001b[38;5;241m=\u001b[39m read_anno(df\u001b[38;5;241m.\u001b[39miloc[index][\u001b[38;5;124m'\u001b[39m\u001b[38;5;124manno\u001b[39m\u001b[38;5;124m'\u001b[39m])\n\u001b[0;32m      8\u001b[0m \u001b[38;5;28;01mif\u001b[39;00m (\u001b[38;5;28misinstance\u001b[39m(ill_df, \u001b[38;5;28mint\u001b[39m) \u001b[38;5;241m==\u001b[39m \u001b[38;5;28;01mTrue\u001b[39;00m):\n",
      "File \u001b[1;32mc:\\Users\\dfhg\\AppData\\Local\\Programs\\Python\\Python310\\lib\\site-packages\\pandas\\core\\indexing.py:1073\u001b[0m, in \u001b[0;36m_LocationIndexer.__getitem__\u001b[1;34m(self, key)\u001b[0m\n\u001b[0;32m   1070\u001b[0m axis \u001b[38;5;241m=\u001b[39m \u001b[38;5;28mself\u001b[39m\u001b[38;5;241m.\u001b[39maxis \u001b[38;5;129;01mor\u001b[39;00m \u001b[38;5;241m0\u001b[39m\n\u001b[0;32m   1072\u001b[0m maybe_callable \u001b[38;5;241m=\u001b[39m com\u001b[38;5;241m.\u001b[39mapply_if_callable(key, \u001b[38;5;28mself\u001b[39m\u001b[38;5;241m.\u001b[39mobj)\n\u001b[1;32m-> 1073\u001b[0m \u001b[38;5;28;01mreturn\u001b[39;00m \u001b[38;5;28;43mself\u001b[39;49m\u001b[38;5;241;43m.\u001b[39;49m\u001b[43m_getitem_axis\u001b[49m\u001b[43m(\u001b[49m\u001b[43mmaybe_callable\u001b[49m\u001b[43m,\u001b[49m\u001b[43m \u001b[49m\u001b[43maxis\u001b[49m\u001b[38;5;241;43m=\u001b[39;49m\u001b[43maxis\u001b[49m\u001b[43m)\u001b[49m\n",
      "File \u001b[1;32mc:\\Users\\dfhg\\AppData\\Local\\Programs\\Python\\Python310\\lib\\site-packages\\pandas\\core\\indexing.py:1625\u001b[0m, in \u001b[0;36m_iLocIndexer._getitem_axis\u001b[1;34m(self, key, axis)\u001b[0m\n\u001b[0;32m   1622\u001b[0m     \u001b[38;5;28;01mraise\u001b[39;00m \u001b[38;5;167;01mTypeError\u001b[39;00m(\u001b[38;5;124m\"\u001b[39m\u001b[38;5;124mCannot index by location index with a non-integer key\u001b[39m\u001b[38;5;124m\"\u001b[39m)\n\u001b[0;32m   1624\u001b[0m \u001b[38;5;66;03m# validate the location\u001b[39;00m\n\u001b[1;32m-> 1625\u001b[0m \u001b[38;5;28;43mself\u001b[39;49m\u001b[38;5;241;43m.\u001b[39;49m\u001b[43m_validate_integer\u001b[49m\u001b[43m(\u001b[49m\u001b[43mkey\u001b[49m\u001b[43m,\u001b[49m\u001b[43m \u001b[49m\u001b[43maxis\u001b[49m\u001b[43m)\u001b[49m\n\u001b[0;32m   1627\u001b[0m \u001b[38;5;28;01mreturn\u001b[39;00m \u001b[38;5;28mself\u001b[39m\u001b[38;5;241m.\u001b[39mobj\u001b[38;5;241m.\u001b[39m_ixs(key, axis\u001b[38;5;241m=\u001b[39maxis)\n",
      "File \u001b[1;32mc:\\Users\\dfhg\\AppData\\Local\\Programs\\Python\\Python310\\lib\\site-packages\\pandas\\core\\indexing.py:1557\u001b[0m, in \u001b[0;36m_iLocIndexer._validate_integer\u001b[1;34m(self, key, axis)\u001b[0m\n\u001b[0;32m   1555\u001b[0m len_axis \u001b[38;5;241m=\u001b[39m \u001b[38;5;28mlen\u001b[39m(\u001b[38;5;28mself\u001b[39m\u001b[38;5;241m.\u001b[39mobj\u001b[38;5;241m.\u001b[39m_get_axis(axis))\n\u001b[0;32m   1556\u001b[0m \u001b[38;5;28;01mif\u001b[39;00m key \u001b[38;5;241m>\u001b[39m\u001b[38;5;241m=\u001b[39m len_axis \u001b[38;5;129;01mor\u001b[39;00m key \u001b[38;5;241m<\u001b[39m \u001b[38;5;241m-\u001b[39mlen_axis:\n\u001b[1;32m-> 1557\u001b[0m     \u001b[38;5;28;01mraise\u001b[39;00m \u001b[38;5;167;01mIndexError\u001b[39;00m(\u001b[38;5;124m\"\u001b[39m\u001b[38;5;124msingle positional indexer is out-of-bounds\u001b[39m\u001b[38;5;124m\"\u001b[39m)\n",
      "\u001b[1;31mIndexError\u001b[0m: single positional indexer is out-of-bounds"
     ]
    }
   ],
   "source": [
    "PATCH_SHAPE = [512, 512]\n",
    "\n",
    "for id in range(len(df)):\n",
    "    index = id + 492\n",
    "    t1 = time.time()\n",
    "    OS_OBJ = openslide.open_slide(df.iloc[index]['images'])\n",
    "    ill_df = read_anno(df.iloc[index]['anno'])\n",
    "    if (isinstance(ill_df, int) == True):\n",
    "        continue\n",
    "    foldername = df.iloc[index]['folder']\n",
    "    patch = extract_patch(ill_df, OS_OBJ)\n",
    "    print(foldername)\n",
    "    print(\"demo dimensions: \", OS_OBJ.dimensions) #W, H -> x, y\n",
    "    tot_mask = np.zeros((OS_OBJ.dimensions[1], OS_OBJ.dimensions[0], 3), dtype = \"uint8\")\n",
    "    \n",
    "    for i in patch:\n",
    "        for j in range(len(ill_df)):\n",
    "            coords = ill_df.iloc[j]['coords']\n",
    "            color = ill_df.iloc[j]['color']\n",
    "            tot_mask = cv2.fillPoly(tot_mask, [coords], color)\n",
    "\n",
    "        LEFT_PATCH_TL_PIXEL = [round(i[0]),round(i[1])]\n",
    "        RIGHT_PATCH_TL_PIXEL = [round(i[2]),round(i[3])]\n",
    "\n",
    "        if ((OS_OBJ.dimensions[0]<(RIGHT_PATCH_TL_PIXEL[0])) or\n",
    "            (OS_OBJ.dimensions[1]<(RIGHT_PATCH_TL_PIXEL[1]))):\n",
    "                LEFT_PATCH_TL_PIXEL = (0,0)\n",
    "\n",
    "        y = round(i[1])\n",
    "        \n",
    "        while (y < (round(i[3]))):\n",
    "            x = round(i[0])\n",
    "            while (x < (round(i[2]))):\n",
    "                START_PIXEL = [x, y]\n",
    "                PATCH = get_patch(OS_OBJ, START_PIXEL, PATCH_SHAPE)\n",
    "                patch_id = f\"{'x_'}{x}{'_y_'}{y}{'_'}{foldername[16:]}\" + \".png\"\n",
    "                path_image=foldername + '/' + patch_id\n",
    "                \n",
    "                \n",
    "                mask = np.zeros((512, 512, 3))\n",
    "                mask = tot_mask[y:y + 512, x:x + 512]\n",
    "                check = (mask > 0).sum()\n",
    "                mask_id = f\"{'x_'}{x}{'_y_'}{y}{'_'}{foldername[16:]}{'mask'}\" + \".png\"\n",
    "                path_mask=foldername + '/' + mask_id\n",
    "                if (check > 0 and mask.shape[0] == 512 and mask.shape[1] == 512):\n",
    "                    cv2.imwrite(path_mask, mask)\n",
    "                    PATCH.save(path_image)\n",
    "                x = x + 512\n",
    "            y = y + 512"
   ]
  },
  {
   "cell_type": "markdown",
   "id": "80a266bd",
   "metadata": {},
   "source": [
    "# SELECT RANDOM IMAGES"
   ]
  },
  {
   "cell_type": "code",
   "execution_count": null,
   "id": "600f45fc",
   "metadata": {},
   "outputs": [],
   "source": [
    "# folders = os.listdir('G:/NB_w_anno/')\n",
    "# BATCH_SIZE = 12\n",
    "\n",
    "# for file_name in folders:\n",
    "#     file_path = os.path.join('G:/NB_w_anno_random/', file_name)\n",
    "#     os.makedirs(file_path)\n",
    "\n",
    "# for f in folders:\n",
    "    \n",
    "#     print(f)\n",
    "    \n",
    "#     masks = fnmatch.filter(os.listdir('G:/NB_w_anno/' + f + '/'), '*mask.png')\n",
    "    \n",
    "#     if (len(masks) >= BATCH_SIZE):\n",
    "#         masks = random.sample(masks, 12)\n",
    "\n",
    "#     for i in masks:\n",
    "#         image = 'G:/NB_w_anno/' + f +'/' + i[:-8] + '.png'\n",
    "#         mask = 'G:/NB_w_anno/' + f +'/' + i\n",
    "#         path = 'G:/NB_w_anno_random/' + f\n",
    "#         shutil.move(image, path)\n",
    "#         shutil.move(mask, path)"
   ]
  }
 ],
 "metadata": {
  "kaggle": {
   "accelerator": "none",
   "dataSources": [
    {
     "datasetId": 4210176,
     "sourceId": 7339176,
     "sourceType": "datasetVersion"
    },
    {
     "datasetId": 4260612,
     "sourceId": 7339564,
     "sourceType": "datasetVersion"
    }
   ],
   "dockerImageVersionId": 30626,
   "isGpuEnabled": false,
   "isInternetEnabled": true,
   "language": "python",
   "sourceType": "notebook"
  },
  "kernelspec": {
   "display_name": "Python 3",
   "language": "python",
   "name": "python3"
  },
  "language_info": {
   "codemirror_mode": {
    "name": "ipython",
    "version": 3
   },
   "file_extension": ".py",
   "mimetype": "text/x-python",
   "name": "python",
   "nbconvert_exporter": "python",
   "pygments_lexer": "ipython3",
   "version": "3.10.4"
  },
  "papermill": {
   "default_parameters": {},
   "duration": 111.563044,
   "end_time": "2024-02-01T17:08:05.376438",
   "environment_variables": {},
   "exception": null,
   "input_path": "__notebook__.ipynb",
   "output_path": "__notebook__.ipynb",
   "parameters": {},
   "start_time": "2024-02-01T17:06:13.813394",
   "version": "2.4.0"
  }
 },
 "nbformat": 4,
 "nbformat_minor": 5
}
